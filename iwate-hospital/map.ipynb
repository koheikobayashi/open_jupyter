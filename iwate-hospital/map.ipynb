{
 "cells": [
  {
   "cell_type": "code",
   "execution_count": 7,
   "metadata": {},
   "outputs": [
    {
     "data": {
      "text/plain": [
       "<folium.plugins.fast_marker_cluster.FastMarkerCluster at 0x115368a58>"
      ]
     },
     "execution_count": 7,
     "metadata": {},
     "output_type": "execute_result"
    }
   ],
   "source": [
    "import pandas as pd # data processing, CSV file I/O (e.g. pd.read_csv)\n",
    "import folium\n",
    "from folium.plugins import FastMarkerCluster\n",
    "\n",
    "data = pd.read_csv('./latitude_and_longitute.csv').values.tolist()\n",
    "map1 = folium.Map(location=[39.250285, 141.636919], zoom_start=6.0)\n",
    "FastMarkerCluster(data=data).add_to(map1)"
   ]
  },
  {
   "cell_type": "code",
   "execution_count": 8,
   "metadata": {},
   "outputs": [
    {
     "data": {
      "text/html": [
       "<div style=\"width:100%;\"><div style=\"position:relative;width:100%;height:0;padding-bottom:60%;\"><iframe src=\"data:text/html;charset=utf-8;base64,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\" style=\"position:absolute;width:100%;height:100%;left:0;top:0;border:none !important;\" allowfullscreen webkitallowfullscreen mozallowfullscreen></iframe></div></div>"
      ],
      "text/plain": [
       "<folium.folium.Map at 0x115368828>"
      ]
     },
     "execution_count": 8,
     "metadata": {},
     "output_type": "execute_result"
    }
   ],
   "source": [
    "map1"
   ]
  },
  {
   "cell_type": "code",
   "execution_count": 9,
   "metadata": {},
   "outputs": [],
   "source": [
    "map1.save('MarkerCluster.html')"
   ]
  },
  {
   "cell_type": "code",
   "execution_count": 11,
   "metadata": {},
   "outputs": [
    {
     "ename": "IndentationError",
     "evalue": "unindent does not match any outer indentation level (<tokenize>, line 35)",
     "output_type": "error",
     "traceback": [
      "\u001b[0;36m  File \u001b[0;32m\"<tokenize>\"\u001b[0;36m, line \u001b[0;32m35\u001b[0m\n\u001b[0;31m    <script src=\"https://cdnjs.cloudflare.com/ajax/libs/leaflet.markercluster/1.1.0/leaflet.markercluster.js\"></script>\u001b[0m\n\u001b[0m    ^\u001b[0m\n\u001b[0;31mIndentationError\u001b[0m\u001b[0;31m:\u001b[0m unindent does not match any outer indentation level\n"
     ]
    }
   ],
   "source": [
    "from IPython.display import HTML\n",
    "HTML(\"<head>    \n",
    "    <meta http-equiv=\"content-type\" content=\"text/html; charset=UTF-8\" />\n",
    "    \n",
    "        <script>\n",
    "            L_NO_TOUCH = false;\n",
    "            L_DISABLE_3D = false;\n",
    "        </script>\n",
    "    \n",
    "    <script src=\"https://cdn.jsdelivr.net/npm/leaflet@1.4.0/dist/leaflet.js\"></script>\n",
    "    <script src=\"https://code.jquery.com/jquery-1.12.4.min.js\"></script>\n",
    "    <script src=\"https://maxcdn.bootstrapcdn.com/bootstrap/3.2.0/js/bootstrap.min.js\"></script>\n",
    "    <script src=\"https://cdnjs.cloudflare.com/ajax/libs/Leaflet.awesome-markers/2.0.2/leaflet.awesome-markers.js\"></script>\n",
    "    <link rel=\"stylesheet\" href=\"https://cdn.jsdelivr.net/npm/leaflet@1.4.0/dist/leaflet.css\"/>\n",
    "    <link rel=\"stylesheet\" href=\"https://maxcdn.bootstrapcdn.com/bootstrap/3.2.0/css/bootstrap.min.css\"/>\n",
    "    <link rel=\"stylesheet\" href=\"https://maxcdn.bootstrapcdn.com/bootstrap/3.2.0/css/bootstrap-theme.min.css\"/>\n",
    "    <link rel=\"stylesheet\" href=\"https://maxcdn.bootstrapcdn.com/font-awesome/4.6.3/css/font-awesome.min.css\"/>\n",
    "    <link rel=\"stylesheet\" href=\"https://cdnjs.cloudflare.com/ajax/libs/Leaflet.awesome-markers/2.0.2/leaflet.awesome-markers.css\"/>\n",
    "    <link rel=\"stylesheet\" href=\"https://rawcdn.githack.com/python-visualization/folium/master/folium/templates/leaflet.awesome.rotate.css\"/>\n",
    "    <style>html, body {width: 100%;height: 100%;margin: 0;padding: 0;}</style>\n",
    "    <style>#map {position:absolute;top:0;bottom:0;right:0;left:0;}</style>\n",
    "    \n",
    "            <meta name=\"viewport\" content=\"width=device-width,\n",
    "                initial-scale=1.0, maximum-scale=1.0, user-scalable=no\" />\n",
    "            <style>\n",
    "                #map_8c3db1d637384ca3b1ccaadf2ac992f4 {\n",
    "                    position: relative;\n",
    "                    width: 100.0%;\n",
    "                    height: 100.0%;\n",
    "                    left: 0.0%;\n",
    "                    top: 0.0%;\n",
    "                }\n",
    "            </style>\n",
    "        \n",
    "    <script src=\"https://cdnjs.cloudflare.com/ajax/libs/leaflet.markercluster/1.1.0/leaflet.markercluster.js\"></script>\n",
    "    <link rel=\"stylesheet\" href=\"https://cdnjs.cloudflare.com/ajax/libs/leaflet.markercluster/1.1.0/MarkerCluster.css\"/>\n",
    "    <link rel=\"stylesheet\" href=\"https://cdnjs.cloudflare.com/ajax/libs/leaflet.markercluster/1.1.0/MarkerCluster.Default.css\"/>\n",
    "</head>\n",
    "<body>    \n",
    "    \n",
    "            <div class=\"folium-map\" id=\"map_8c3db1d637384ca3b1ccaadf2ac992f4\" ></div>\n",
    "        \n",
    "</body>\n",
    "<script>    \n",
    "    \n",
    "            var map_8c3db1d637384ca3b1ccaadf2ac992f4 = L.map(\n",
    "                \"map_8c3db1d637384ca3b1ccaadf2ac992f4\",\n",
    "                {\n",
    "                    center: [39.250285, 141.636919],\n",
    "                    crs: L.CRS.EPSG3857,\n",
    "                    zoom: 6.0,\n",
    "                    zoomControl: true,\n",
    "                    preferCanvas: false,\n",
    "                }\n",
    "            );\n",
    "            \n",
    "        \n",
    "    \n",
    "            var tile_layer_95b1645508404f57b17648be92360e8b = L.tileLayer(\n",
    "                \"https://{s}.tile.openstreetmap.org/{z}/{x}/{y}.png\",\n",
    "                {\"attribution\": \"Data by \\u0026copy; \\u003ca href=\\\"http://openstreetmap.org\\\"\\u003eOpenStreetMap\\u003c/a\\u003e, under \\u003ca href=\\\"http://www.openstreetmap.org/copyright\\\"\\u003eODbL\\u003c/a\\u003e.\", \"detectRetina\": false, \"maxNativeZoom\": 18, \"maxZoom\": 18, \"minZoom\": 0, \"noWrap\": false, \"opacity\": 1, \"subdomains\": \"abc\", \"tms\": false}\n",
    "            ).addTo(map_8c3db1d637384ca3b1ccaadf2ac992f4);\n",
    "        \n",
    "    \n",
    "            var fast_marker_cluster_40e5a3a474c146a98d9ba27f6b89f582 = (function(){\n",
    "                \n",
    "                var callback = function (row) {\n",
    "                    var icon = L.AwesomeMarkers.icon();\n",
    "                    var marker = L.marker(new L.LatLng(row[0], row[1]));\n",
    "                    marker.setIcon(icon);\n",
    "                    return marker;\n",
    "                };\n",
    "                var data = [[39.152619, 141.131479], [39.722671999999996, 141.11134099999998], [39.704941999999996, 141.152001], [39.707648999999996, 141.169673], [39.718046, 141.176052], [39.697155, 141.149081], [39.698028, 141.153021], [39.716260999999996, 141.130055], [39.700706, 141.11036299999998], [39.711693, 141.15426499999998], [39.730836, 141.134902], [39.734004, 141.113718], [39.707577, 141.15425], [39.690404, 141.140827], [39.68907, 141.024205], [39.748551, 141.158338], [39.837654, 141.16491299999998], [39.836636999999996, 141.154496], [39.642168, 141.16849399999998], [39.658378000000006, 141.18549099999998], [39.672103, 141.15622], [39.656446, 141.156058], [39.658509, 141.13718500000002], [39.875063, 141.165343], [39.756577, 141.16276100000002], [39.713433, 141.145816], [39.661489, 141.16749199999998], [39.68935, 141.124483], [39.735527000000005, 141.09115400000002], [39.698802, 141.056901], [39.510002, 141.158524], [39.618525, 141.16368400000002], [39.628568, 141.08518600000002], [39.638815, 140.940098], [39.703759999999996, 141.01291799999998], [39.610434000000005, 141.12068200000002], [40.040119, 141.438921], [39.91448, 141.090051], [39.916025, 140.98203600000002], [39.390003, 141.116722], [39.40893, 141.12420500000002], [39.369966, 141.109718], [39.418985, 141.012503], [39.497004, 141.16867], [39.383922, 141.223815], [39.315269, 141.579978], [39.339187, 141.541599], [39.288652, 141.121649], [39.324357, 141.122558], [39.330011, 141.104996], [39.372149, 140.761582], [39.123052, 141.135284], [39.146594, 141.138877], [0.0, 0.0], [39.136157, 141.143585], [39.129477, 141.211074], [39.071391999999996, 141.127041], [39.129020000000004, 141.067926], [39.194128000000006, 141.172502], [38.939516999999995, 141.115451], [38.936175, 141.17025800000002], [38.936175, 141.17025800000002], [38.929527, 141.134872], [38.930064, 141.132814], [38.927011, 141.13302], [39.01663, 141.395166], [38.928367, 141.34341], [38.961252, 141.249851], [38.858154, 141.349639], [39.033071, 141.636919], [39.020454, 141.641265], [39.072631, 141.707478], [39.261644, 141.83633799999998], [39.257275, 141.827463], [39.250285, 141.835872], [39.255311999999996, 141.816577], [39.273576, 141.878467], [39.358675, 141.879961], [39.634707, 141.917395], [0.0, 0.0], [39.644389000000004, 141.947171], [39.458148, 141.951119], [39.658868, 141.948045], [39.847589, 141.795035], [40.200662, 141.782141], [40.200495000000004, 141.79030600000002], [40.409845000000004, 141.719131], [40.200936999999996, 141.777185], [40.299997, 141.306024], [40.317186, 141.478404], [40.207532, 141.305037]];\n",
    "                var cluster = L.markerClusterGroup({});\n",
    "                for (var i = 0; i < data.length; i++) {\n",
    "                    var row = data[i];\n",
    "                    var marker = callback(row);\n",
    "                    marker.addTo(cluster);\n",
    "                }\n",
    "                cluster.addTo(map_8c3db1d637384ca3b1ccaadf2ac992f4);\n",
    "                return cluster;\n",
    "            })();\n",
    "        \n",
    "</script>\n",
    "\")"
   ]
  },
  {
   "cell_type": "code",
   "execution_count": null,
   "metadata": {},
   "outputs": [],
   "source": []
  }
 ],
 "metadata": {
  "kernelspec": {
   "display_name": "Python 3",
   "language": "python",
   "name": "python3"
  },
  "language_info": {
   "codemirror_mode": {
    "name": "ipython",
    "version": 3
   },
   "file_extension": ".py",
   "mimetype": "text/x-python",
   "name": "python",
   "nbconvert_exporter": "python",
   "pygments_lexer": "ipython3",
   "version": "3.7.3"
  }
 },
 "nbformat": 4,
 "nbformat_minor": 2
}
