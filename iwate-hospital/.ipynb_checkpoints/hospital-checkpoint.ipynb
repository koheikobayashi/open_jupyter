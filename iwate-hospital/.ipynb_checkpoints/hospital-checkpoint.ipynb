{
 "cells": [
  {
   "cell_type": "code",
   "execution_count": 1,
   "metadata": {},
   "outputs": [],
   "source": [
    "import pandas as pd\n",
    "\n",
    "hospital = pd.read_csv('./mydata - hospital.csv')\n",
    "hos1 = hospital[\"Location\"].values.tolist()"
   ]
  },
  {
   "cell_type": "code",
   "execution_count": 4,
   "metadata": {},
   "outputs": [],
   "source": [
    "import requests\n",
    "from bs4 import BeautifulSoup\n",
    "import time\n",
    "from tqdm import tqdm\n",
    "\n",
    "\n",
    "def get_lat_lon_from_address(address_l):\n",
    "    \"\"\"\n",
    "    address_lにlistの形で住所を入れてあげると、latlonsという入れ子上のリストで緯度経度のリストを返す関数。\n",
    "    >>>>get_lat_lon_from_address(['東京都文京区本郷7-3-1','東京都文京区湯島３丁目３０−１'])\n",
    "    [['35.712056', '139.762775'], ['35.707771', '139.768205']]\n",
    "    \"\"\"\n",
    "    url = 'http://www.geocoding.jp/api/'\n",
    "    latlons = []\n",
    "    for address in tqdm(address_l):\n",
    "        payload = {'q': address}\n",
    "        r = requests.get(url, params=payload)\n",
    "        ret = BeautifulSoup(r.content,'lxml')\n",
    "        if ret.find('error'):\n",
    "            raise ValueError(f\"Invalid address submitted. {address}\")\n",
    "        else:\n",
    "            lat = ret.find('lat').string\n",
    "            lon = ret.find('lng').string\n",
    "            latlons.append([lat,lon])\n",
    "            time.sleep(10)\n",
    "    return latlons"
   ]
  },
  {
   "cell_type": "code",
   "execution_count": null,
   "metadata": {},
   "outputs": [
    {
     "name": "stderr",
     "output_type": "stream",
     "text": [
      "  7%|▋         | 6/91 [01:13<17:46, 12.55s/it]"
     ]
    }
   ],
   "source": [
    "lons = get_lat_lon_from_address(hos1)"
   ]
  },
  {
   "cell_type": "code",
   "execution_count": 39,
   "metadata": {},
   "outputs": [
    {
     "ename": "AttributeError",
     "evalue": "'list' object has no attribute 'type'",
     "output_type": "error",
     "traceback": [
      "\u001b[0;31m---------------------------------------------------------------------------\u001b[0m",
      "\u001b[0;31mAttributeError\u001b[0m                            Traceback (most recent call last)",
      "\u001b[0;32m<ipython-input-39-06ca6150f828>\u001b[0m in \u001b[0;36m<module>\u001b[0;34m\u001b[0m\n\u001b[0;32m----> 1\u001b[0;31m \u001b[0mlons\u001b[0m\u001b[0;34m.\u001b[0m\u001b[0mtype\u001b[0m\u001b[0;34m\u001b[0m\u001b[0;34m\u001b[0m\u001b[0m\n\u001b[0m",
      "\u001b[0;31mAttributeError\u001b[0m: 'list' object has no attribute 'type'"
     ]
    }
   ],
   "source": [
    "lons.type"
   ]
  },
  {
   "cell_type": "code",
   "execution_count": 3,
   "metadata": {},
   "outputs": [
    {
     "ename": "NameError",
     "evalue": "name 'lons' is not defined",
     "output_type": "error",
     "traceback": [
      "\u001b[0;31m---------------------------------------------------------------------------\u001b[0m",
      "\u001b[0;31mNameError\u001b[0m                                 Traceback (most recent call last)",
      "\u001b[0;32m<ipython-input-3-405991b1858f>\u001b[0m in \u001b[0;36m<module>\u001b[0;34m\u001b[0m\n\u001b[1;32m     14\u001b[0m \u001b[0;34m\u001b[0m\u001b[0m\n\u001b[1;32m     15\u001b[0m \u001b[0mmap1\u001b[0m \u001b[0;34m=\u001b[0m \u001b[0mfolium\u001b[0m\u001b[0;34m.\u001b[0m\u001b[0mMap\u001b[0m\u001b[0;34m(\u001b[0m\u001b[0mlocation\u001b[0m\u001b[0;34m=\u001b[0m\u001b[0;34m[\u001b[0m\u001b[0;36m39.250285\u001b[0m\u001b[0;34m,\u001b[0m \u001b[0;36m141.636919\u001b[0m\u001b[0;34m]\u001b[0m\u001b[0;34m,\u001b[0m \u001b[0mzoom_start\u001b[0m\u001b[0;34m=\u001b[0m\u001b[0;36m11.5\u001b[0m\u001b[0;34m)\u001b[0m\u001b[0;34m\u001b[0m\u001b[0;34m\u001b[0m\u001b[0m\n\u001b[0;32m---> 16\u001b[0;31m \u001b[0mFastMarkerCluster\u001b[0m\u001b[0;34m(\u001b[0m\u001b[0mdata\u001b[0m\u001b[0;34m=\u001b[0m\u001b[0mlons\u001b[0m\u001b[0;34m)\u001b[0m\u001b[0;34m.\u001b[0m\u001b[0madd_to\u001b[0m\u001b[0;34m(\u001b[0m\u001b[0mmap1\u001b[0m\u001b[0;34m)\u001b[0m\u001b[0;34m\u001b[0m\u001b[0;34m\u001b[0m\u001b[0m\n\u001b[0m\u001b[1;32m     17\u001b[0m \u001b[0mmap1\u001b[0m\u001b[0;34m\u001b[0m\u001b[0;34m\u001b[0m\u001b[0m\n",
      "\u001b[0;31mNameError\u001b[0m: name 'lons' is not defined"
     ]
    }
   ],
   "source": [
    "import numpy as np # linear algebra\n",
    "import pandas as pd # data processing, CSV file I/O (e.g. pd.read_csv)\n",
    "import seaborn as sns\n",
    "sns.set()\n",
    "import matplotlib.pyplot as plt\n",
    "import folium\n",
    "from folium.plugins import FastMarkerCluster\n",
    "import geopandas as gpd\n",
    "from branca.colormap import LinearColormap\n",
    "import os\n",
    "import warnings\n",
    "warnings.simplefilter(action='ignore', category=FutureWarning)\n",
    "\n",
    "\n",
    "map1 = folium.Map(location=[39.250285, 141.636919], zoom_start=11.5)\n",
    "FastMarkerCluster(data=lons).add_to(map1)\n",
    "map1"
   ]
  },
  {
   "cell_type": "code",
   "execution_count": 41,
   "metadata": {},
   "outputs": [
    {
     "data": {
      "text/plain": [
       "[['39.152619', '141.131479'],\n",
       " ['39.722672', '141.111341'],\n",
       " ['39.704942', '141.152001'],\n",
       " ['39.707649', '141.169673'],\n",
       " ['39.718046', '141.176052'],\n",
       " ['39.697155', '141.149081'],\n",
       " ['39.698028', '141.153021'],\n",
       " ['39.716261', '141.130055'],\n",
       " ['39.700706', '141.110363'],\n",
       " ['39.711693', '141.154265'],\n",
       " ['39.730836', '141.134902'],\n",
       " ['39.734004', '141.113718'],\n",
       " ['39.707577', '141.15425'],\n",
       " ['39.690404', '141.140827'],\n",
       " ['39.68907', '141.024205'],\n",
       " ['39.748551', '141.158338'],\n",
       " ['39.837654', '141.164913'],\n",
       " ['39.836637', '141.154496'],\n",
       " ['39.642168', '141.168494'],\n",
       " ['39.658378', '141.185491'],\n",
       " ['39.672103', '141.15622'],\n",
       " ['39.656446', '141.156058'],\n",
       " ['39.658509', '141.137185'],\n",
       " ['39.875063', '141.165343'],\n",
       " ['39.756577', '141.162761'],\n",
       " ['39.713433', '141.145816'],\n",
       " ['39.661489', '141.167492'],\n",
       " ['39.68935', '141.124483'],\n",
       " ['39.735527', '141.091154'],\n",
       " ['39.698802', '141.056901'],\n",
       " ['39.510002', '141.158524'],\n",
       " ['39.618525', '141.163684'],\n",
       " ['39.628568', '141.085186'],\n",
       " ['39.638815', '140.940098'],\n",
       " ['39.70376', '141.012918'],\n",
       " ['39.610434', '141.120682'],\n",
       " ['40.040119', '141.438921'],\n",
       " ['39.91448', '141.090051'],\n",
       " ['39.916025', '140.982036'],\n",
       " ['39.390003', '141.116722'],\n",
       " ['39.40893', '141.124205'],\n",
       " ['39.369966', '141.109718'],\n",
       " ['39.418985', '141.012503'],\n",
       " ['39.497004', '141.16867'],\n",
       " ['39.383922', '141.223815'],\n",
       " ['39.315269', '141.579978'],\n",
       " ['39.339187', '141.541599'],\n",
       " ['39.288652', '141.121649'],\n",
       " ['39.324357', '141.122558'],\n",
       " ['39.330011', '141.104996'],\n",
       " ['39.372149', '140.761582'],\n",
       " ['39.123052', '141.135284'],\n",
       " ['39.146594', '141.138877'],\n",
       " ['39.14334', '141.148767'],\n",
       " ['39.136157', '141.143585'],\n",
       " ['39.129477', '141.211074'],\n",
       " ['39.071392', '141.127041'],\n",
       " ['39.12902', '141.067926'],\n",
       " ['39.194128', '141.172502'],\n",
       " ['38.939517', '141.115451'],\n",
       " ['38.936175', '141.170258'],\n",
       " ['38.936175', '141.170258'],\n",
       " ['38.929527', '141.134872'],\n",
       " ['38.930064', '141.132814'],\n",
       " ['38.927011', '141.13302'],\n",
       " ['39.01663', '141.395166'],\n",
       " ['38.928367', '141.34341'],\n",
       " ['38.961252', '141.249851'],\n",
       " ['38.858154', '141.349639'],\n",
       " ['39.033071', '141.636919'],\n",
       " ['39.020454', '141.641265'],\n",
       " ['39.072631', '141.707478'],\n",
       " ['39.261644', '141.836338'],\n",
       " ['39.257275', '141.827463'],\n",
       " ['39.250285', '141.835872'],\n",
       " ['39.255312', '141.816577'],\n",
       " ['39.273576', '141.878467'],\n",
       " ['39.358675', '141.879961'],\n",
       " ['39.634707', '141.917395'],\n",
       " ['39.655771', '141.932148'],\n",
       " ['39.644389', '141.947171'],\n",
       " ['39.458148', '141.951119'],\n",
       " ['39.658868', '141.948045'],\n",
       " ['39.847589', '141.795035'],\n",
       " ['40.200662', '141.782141'],\n",
       " ['40.200495', '141.790306'],\n",
       " ['40.409845', '141.719131'],\n",
       " ['40.200937', '141.777185'],\n",
       " ['40.299997', '141.306024'],\n",
       " ['40.317186', '141.478404'],\n",
       " ['40.207532', '141.305037']]"
      ]
     },
     "execution_count": 41,
     "metadata": {},
     "output_type": "execute_result"
    }
   ],
   "source": [
    "lons"
   ]
  },
  {
   "cell_type": "code",
   "execution_count": null,
   "metadata": {},
   "outputs": [],
   "source": []
  }
 ],
 "metadata": {
  "kernelspec": {
   "display_name": "Python 3",
   "language": "python",
   "name": "python3"
  },
  "language_info": {
   "codemirror_mode": {
    "name": "ipython",
    "version": 3
   },
   "file_extension": ".py",
   "mimetype": "text/x-python",
   "name": "python",
   "nbconvert_exporter": "python",
   "pygments_lexer": "ipython3",
   "version": "3.7.3"
  }
 },
 "nbformat": 4,
 "nbformat_minor": 2
}
