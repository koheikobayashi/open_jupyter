{
 "cells": [
  {
   "cell_type": "code",
   "execution_count": 1,
   "metadata": {},
   "outputs": [],
   "source": [
    "import pandas as pd\n",
    "\n",
    "hospital = pd.read_csv('./mydata - hospital.csv')\n",
    "hos1 = hospital[\"Location\"].values.tolist()"
   ]
  },
  {
   "cell_type": "code",
   "execution_count": 4,
   "metadata": {},
   "outputs": [],
   "source": [
    "import requests\n",
    "from bs4 import BeautifulSoup\n",
    "import time\n",
    "from tqdm import tqdm\n",
    "\n",
    "\n",
    "def get_lat_lon_from_address(address_l):\n",
    "    \"\"\"\n",
    "    address_lにlistの形で住所を入れてあげると、latlonsという入れ子上のリストで緯度経度のリストを返す関数。\n",
    "    >>>>get_lat_lon_from_address(['東京都文京区本郷7-3-1','東京都文京区湯島３丁目３０−１'])\n",
    "    [['35.712056', '139.762775'], ['35.707771', '139.768205']]\n",
    "    \"\"\"\n",
    "    url = 'http://www.geocoding.jp/api/'\n",
    "    latlons = []\n",
    "    for address in tqdm(address_l):\n",
    "        payload = {'q': address}\n",
    "        r = requests.get(url, params=payload)\n",
    "        ret = BeautifulSoup(r.content,'lxml')\n",
    "        if ret.find('error'):\n",
    "            raise ValueError(f\"Invalid address submitted. {address}\")\n",
    "        else:\n",
    "            lat = ret.find('lat').string\n",
    "            lon = ret.find('lng').string\n",
    "            latlons.append([lat,lon])\n",
    "            time.sleep(10)\n",
    "    return latlons"
   ]
  },
  {
   "cell_type": "code",
   "execution_count": 5,
   "metadata": {},
   "outputs": [
    {
     "name": "stderr",
     "output_type": "stream",
     "text": [
      "100%|██████████| 91/91 [17:56<00:00, 11.69s/it]\n"
     ]
    }
   ],
   "source": [
    "lons = get_lat_lon_from_address(hos1)"
   ]
  },
  {
   "cell_type": "code",
   "execution_count": 33,
   "metadata": {},
   "outputs": [],
   "source": [
    "pd.DataFrame(lons,columns=['latitude', 'longitute']).to_csv('latitude_and_longitute.csv', index=False,)"
   ]
  },
  {
   "cell_type": "code",
   "execution_count": 36,
   "metadata": {},
   "outputs": [
    {
     "data": {
      "text/html": [
       "<div style=\"width:100%;\"><div style=\"position:relative;width:100%;height:0;padding-bottom:60%;\"><iframe src=\"data:text/html;charset=utf-8;base64,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\" style=\"position:absolute;width:100%;height:100%;left:0;top:0;border:none !important;\" allowfullscreen webkitallowfullscreen mozallowfullscreen></iframe></div></div>"
      ],
      "text/plain": [
       "<folium.folium.Map at 0x1a26816240>"
      ]
     },
     "execution_count": 36,
     "metadata": {},
     "output_type": "execute_result"
    }
   ],
   "source": [
    "import numpy as np # linear algebra\n",
    "import pandas as pd # data processing, CSV file I/O (e.g. pd.read_csv)\n",
    "import seaborn as sns\n",
    "sns.set()\n",
    "import matplotlib.pyplot as plt\n",
    "import folium\n",
    "from folium.plugins import FastMarkerCluster\n",
    "import geopandas as gpd\n",
    "from branca.colormap import LinearColormap\n",
    "import os\n",
    "import warnings\n",
    "warnings.simplefilter(action='ignore', category=FutureWarning)\n",
    "\n",
    "data = pd.read_csv('./latitude_and_longitute.csv').values.tolist()\n",
    "map1 = folium.Map(location=[39.250285, 141.636919], zoom_start=5.5)\n",
    "FastMarkerCluster(data=data).add_to(map1)\n",
    "map1"
   ]
  },
  {
   "cell_type": "code",
   "execution_count": 15,
   "metadata": {},
   "outputs": [
    {
     "data": {
      "text/plain": [
       "[]"
      ]
     },
     "execution_count": 15,
     "metadata": {},
     "output_type": "execute_result"
    }
   ],
   "source": [
    "data"
   ]
  },
  {
   "cell_type": "code",
   "execution_count": null,
   "metadata": {},
   "outputs": [],
   "source": []
  }
 ],
 "metadata": {
  "kernelspec": {
   "display_name": "Python 3",
   "language": "python",
   "name": "python3"
  },
  "language_info": {
   "codemirror_mode": {
    "name": "ipython",
    "version": 3
   },
   "file_extension": ".py",
   "mimetype": "text/x-python",
   "name": "python",
   "nbconvert_exporter": "python",
   "pygments_lexer": "ipython3",
   "version": "3.7.3"
  }
 },
 "nbformat": 4,
 "nbformat_minor": 2
}
